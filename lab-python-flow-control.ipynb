{
 "cells": [
  {
   "cell_type": "markdown",
   "id": "d3bfc191-8885-42ee-b0a0-bbab867c6f9f",
   "metadata": {
    "tags": []
   },
   "source": [
    "# Lab | Flow Control"
   ]
  },
  {
   "cell_type": "markdown",
   "id": "3851fcd1-cf98-4653-9c89-e003b7ec9400",
   "metadata": {},
   "source": [
    "## Exercise: Managing Customer Orders Optimized\n",
    "\n",
    "In the last lab, you were starting an online store that sells various products. To ensure smooth operations, you developed a program that manages customer orders and inventory.\n",
    "\n",
    "You did so without using flow control. Let's go a step further and improve this code.\n",
    "\n",
    "Follow the steps below to complete the exercise:\n",
    "\n",
    "1. Look at your code from the lab data structures, and improve repeated code with loops.\n",
    "\n",
    "2. Instead of asking the user to input the name of three products that a customer wants to order, do the following:\n",
    "    \n",
    "    a. Prompt the user to enter the name of a product that a customer wants to order.\n",
    "    \n",
    "    b. Add the product name to the \"customer_orders\" set.\n",
    "    \n",
    "    c. Ask the user if they want to add another product (yes/no).\n",
    "    \n",
    "    d. Continue the loop until the user does not want to add another product.\n",
    "\n",
    "3. Instead of updating the inventory by subtracting 1 from the quantity of each product, only do it for  the products that were ordered (those in \"customer_orders\")."
   ]
  },
  {
   "cell_type": "code",
   "execution_count": 1,
   "id": "d46665b1",
   "metadata": {},
   "outputs": [
    {
     "name": "stdout",
     "output_type": "stream",
     "text": [
      "{'t-shirt': 2, 'mug': 3, 'hat': 4, 'book': 5, 'keychain': 6}\n"
     ]
    },
    {
     "data": {
      "text/plain": [
       "list"
      ]
     },
     "execution_count": 1,
     "metadata": {},
     "output_type": "execute_result"
    }
   ],
   "source": [
    "##1.  Look at your code from the lab data structures, and improve repeated code with loops.\n",
    "#1. Define a list called `products` that contains the following items: \"t-shirt\", \"mug\", \"hat\", \"book\", \"keychain\".\n",
    "\n",
    "\n",
    "products = [\"t-shirt\", \"mug\", \"hat\", \"book\", \"keychain\"]\n",
    "\n",
    "#2. Create an empty dictionary called `inventory`.\n",
    "inventory = {}\n",
    "\n",
    "for item in products: \n",
    "    quantity = int(input(f\"Enter the amount of {item}  available in the inventory: \"))\n",
    "    inventory[item] = quantity\n",
    "print(f\"{inventory}\")\n",
    "\n",
    "type(products)"
   ]
  },
  {
   "cell_type": "code",
   "execution_count": 2,
   "id": "864d0a49",
   "metadata": {},
   "outputs": [
    {
     "name": "stdout",
     "output_type": "stream",
     "text": [
      "{'t-shirt': 7, 'mug': 8, 'hat': 2, 'book': 3, 'keychain': 4}\n"
     ]
    }
   ],
   "source": [
    "\n",
    "#2. Instead of asking the user to input the name of three products that a customer wants to order, do the following:\n",
    "    \n",
    "    #a. Prompt the user to enter the name of a product that a customer wants to order.\n",
    "    \n",
    "    #b. Add the product name to the \"customer_orders\" set.\n",
    "    \n",
    "    #c. Ask the user if they want to add another product (yes/no).\n",
    "    \n",
    "    #d. Continue the loop until the user does not want to add another product.\n",
    "#Define a list called `products` that contains the following items: \"t-shirt\", \"mug\", \"hat\", \"book\", \"keychain\".\n",
    "products = [ \"t-shirt\", \"mug\", \"hat\", \"book\", \"keychain\"]\n",
    "\n",
    "#Create an empty dictionary called `inventory`.\n",
    "inventory = {}\n",
    "\n",
    "#Ask the user to input the quantity of each product available in the inventory. Use the product names from the `products` list as keys in the `inventory` dictionary and assign the respective quantities as values.\n",
    "for item in products: \n",
    "    quantity = int(input(f\"Enter the amount of {item}  available in the inventory: \"))\n",
    "    inventory[item] = quantity\n",
    "print(f\"{inventory}\")\n",
    "customer_orders = set()\n",
    "\n"
   ]
  },
  {
   "cell_type": "code",
   "execution_count": 3,
   "id": "fcaef6d5",
   "metadata": {},
   "outputs": [
    {
     "name": "stdout",
     "output_type": "stream",
     "text": [
      "KeyError introduce a valid product!\n",
      "set()\n",
      "product added to the cart!\n",
      "{'hat'}\n",
      "product added to the cart!\n",
      "{'book', 'hat'}\n"
     ]
    },
    {
     "data": {
      "text/plain": [
       "str"
      ]
     },
     "execution_count": 3,
     "metadata": {},
     "output_type": "execute_result"
    }
   ],
   "source": [
    "\n",
    "decision = \"yes\"\n",
    "while decision.lower() == \"yes\":\n",
    "    customer_choice = input(f\"Please choose your product {products} t-shirt, mug, hat, book, keychain\")\n",
    "    if customer_choice not in products:\n",
    "        print(\"KeyError introduce a valid product!\")\n",
    "    else:\n",
    "        if customer_choice not in customer_orders:\n",
    "            customer_orders.add(customer_choice)\n",
    "            print(\"product added to the cart!\")\n",
    "        else: \n",
    "            print(f\"Product already ordered {customer_choice}\")\n",
    "    decision = input(\"would you like to add another product? (yes/no)\")\n",
    "\n",
    "\n",
    "    print(customer_orders)\n",
    "type(customer_choice)\n"
   ]
  },
  {
   "cell_type": "code",
   "execution_count": 4,
   "id": "9fc49aeb",
   "metadata": {},
   "outputs": [
    {
     "data": {
      "text/plain": [
       "{'book', 'hat'}"
      ]
     },
     "execution_count": 4,
     "metadata": {},
     "output_type": "execute_result"
    }
   ],
   "source": [
    "customer_orders"
   ]
  },
  {
   "cell_type": "code",
   "execution_count": 13,
   "id": "d055e6b1",
   "metadata": {},
   "outputs": [
    {
     "name": "stdout",
     "output_type": "stream",
     "text": [
      "{'t-shirt': 7, 'mug': 8, 'hat': -1, 'book': 0, 'keychain': 4}\n"
     ]
    }
   ],
   "source": [
    "for i in customer_orders: \n",
    "    inventory[i] -=1\n",
    "print(inventory)\n"
   ]
  }
 ],
 "metadata": {
  "kernelspec": {
   "display_name": "Python 3 (ipykernel)",
   "language": "python",
   "name": "python3"
  },
  "language_info": {
   "codemirror_mode": {
    "name": "ipython",
    "version": 3
   },
   "file_extension": ".py",
   "mimetype": "text/x-python",
   "name": "python",
   "nbconvert_exporter": "python",
   "pygments_lexer": "ipython3",
   "version": "3.9.12"
  }
 },
 "nbformat": 4,
 "nbformat_minor": 5
}
